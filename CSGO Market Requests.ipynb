{
 "cells": [
  {
   "cell_type": "code",
   "execution_count": 1,
   "metadata": {
    "collapsed": true
   },
   "outputs": [],
   "source": [
    "from lxml import html\n",
    "import requests\n",
    "import time"
   ]
  },
  {
   "cell_type": "code",
   "execution_count": 2,
   "metadata": {
    "collapsed": true
   },
   "outputs": [],
   "source": [
    "items = ['AUG | Bengal Tiger (Factory New)', 'StatTrak™ Music Kit | AWOLNATION, I Am', 'StatTrak™ Music Kit | Daniel Sadowski, Total Domination', 'StatTrak™ SG 553 | Cyrex (Well-Worn)', 'AWP | Sun in Leo (Factory New)', 'AWP | Phobos (Factory New)', 'AWP | Phobos (Minimal Wear)', 'Music Kit | Noisia, Sharpened', 'Music Kit | Mateo Messina, For No Mankind', 'AUG | Chameleon (Factory New)']"
   ]
  },
  {
   "cell_type": "code",
   "execution_count": 3,
   "metadata": {
    "collapsed": true
   },
   "outputs": [],
   "source": [
    "high_hf_items = ['Five-SeveN | Case Hardened (Factory New)', 'StatTrak™ MAG-7 | Memento (Factory New)', 'SCAR-20 | Cyrex (Factory New)', 'StatTrak™ FAMAS | Pulse (Factory New)', 'P2000 | Ocean Foam (Factory New)', 'StatTrak™ P90 | Grim (Factory New)', 'StatTrak™ Dual Berettas | Hemoglobin (Factory New)', 'Five-SeveN | Candy Apple (Factory New)', 'AWP | Graphite (Factory New)', 'StatTrak™ AK-47 | Elite Build (Factory New)', 'G3SG1 | Chronos (Factory New)', 'Tec-9 | Re-Entry (Factory New)', 'R8 Revolver | Fade (Factory New)', 'P90 | Asiimov (Factory New)', 'Desert Eagle | Hypnotic (Factory New)', 'StatTrak™ MP9 | Rose Iron (Factory New)', 'P90 | Cold Blooded (Factory New)', 'StatTrak™ M4A4 | Griffin (Factory New)', 'StatTrak™ AK-47 | Blue Laminate (Factory New)', 'UMP-45 | Blaze (Factory New)', 'P2000 | Fire Elemental (Factory New)', 'M4A1-S | Atomic Alloy (Factory New)', 'StatTrak™ FAMAS | Valence (Factory New)', 'AWP | Corticera (Factory New)', 'PP-Bizon | Judgement of Anubis (Factory New)', 'StatTrak™ M4A1-S | Blood Tiger (Factory New)', 'StatTrak™ M4A1-S | Basilisk (Factory New)', 'AWP | Elite Build (Factory New)', 'Glock-18 | Dragon Tattoo (Factory New)', 'USP-S | Orion (Factory New)', 'StatTrak™ Desert Eagle | Conspiracy (Factory New)', 'M4A1-S | Cyrex (Factory New)', 'M4A4 | 龍王 (Dragon King) (Factory New)', 'AWP | Electric Hive (Factory New)', 'USP-S | Cyrex (Factory New)']"
   ]
  },
  {
   "cell_type": "code",
   "execution_count": 4,
   "metadata": {
    "collapsed": true
   },
   "outputs": [],
   "source": [
    "low_cost_items = ['MAC-10 | Neon Rider (Field-Tested)', 'M4A1-S | Blood Tiger (Minimal Wear)', 'StatTrak™ P2000 | Handgun (Minimal Wear)', 'StatTrak™ FAMAS | Neural Net (Minimal Wear)', 'M4A4 | Evil Daimyo (Battle-Scarred)', 'AWP | Worm God (Minimal Wear)', 'USP-S | Torque (Factory New)', 'USP-S | Torque (Factory New)', 'StatTrak™ Glock-18 | Bunsen Burner (Field-Tested)', 'P2000 | Pathfinder (Minimal Wear)', 'M249 | Nebula Crusader (Field-Tested)', 'Desert Eagle | Naga (Field-Tested)', 'FAMAS | Sergeant (Field-Tested)', 'Sawed-Off | Rust Coat (Well-Worn)', 'Tec-9 | Isaac (Well-Worn)', 'P2000 | Handgun (Minimal Wear)', 'StatTrak™ UMP-45 | Labyrinth (Minimal Wear)', 'StatTrak™ Nova | Ranger (Minimal Wear)', 'FAMAS | Neural Net (Field-Tested)', 'Dual Berettas | Cobalt Quartz (Minimal Wear)', 'Galil AR | Rocket Pop (Minimal Wear)', 'SSG 08 | Abyss (Well-Worn)', 'M249 | Magma (Field-Tested)', 'P90 | Elite Build (Field-Tested)', \"Negev | Man-o'-war (Minimal Wear)\", 'MAG-7 | Cobalt Core (Field-Tested)', 'UMP-45 | Corporal (Minimal Wear)', 'P250 | Valence (Battle-Scarred)', 'P250 | Metallic DDPAT (Factory New)', 'G3SG1 | VariCamo (Field-Tested)']"
   ]
  },
  {
   "cell_type": "code",
   "execution_count": 5,
   "metadata": {
    "collapsed": true
   },
   "outputs": [],
   "source": [
    "long_list_items = ['AK-47 | Case Hardened (Minimal Wear)', 'AK-47 | Fuel Injector (Field-Tested)', 'AWP | Asiimov (Well-Worn)', 'AK-47 | Wasteland Rebel (Minimal Wear)', 'StatTrak™ AK-47 | Frontside Misty (Field-Tested)', 'SSG 08 | Blood in the Water (Field-Tested)', 'AK-47 | Fuel Injector (Well-Worn)', 'USP-S | Kill Confirmed (Field-Tested)', 'AK-47 | Case Hardened (Field-Tested)', 'AK-47 | Point Disarray (Factory New)', 'StatTrak™ AK-47 | Redline (Field-Tested)', 'AK-47 | Case Hardened (Well-Worn)', \"M4A1-S | Chantico's Fire (Field-Tested)\", 'USP-S | Kill Confirmed (Well-Worn)', 'AWP | Hyper Beast (Field-Tested)', 'AWP | Asiimov (Battle-Scarred)', 'USP-S | Kill Confirmed (Battle-Scarred)', 'AK-47 | Aquamarine Revenge (Minimal Wear)', 'M4A1-S | Golden Coil (Minimal Wear)', 'AK-47 | Case Hardened (Battle-Scarred)', 'AK-47 | Redline (Minimal Wear)', 'M4A4 | Desolate Space (Minimal Wear)', 'AK-47 | Vulcan (Well-Worn)', 'AWP | Hyper Beast (Well-Worn)', 'StatTrak™ M4A1-S | Dark Water (Minimal Wear)', 'AK-47 | Wasteland Rebel (Field-Tested)', 'AWP | Boom (Field-Tested)', 'M4A1-S | Mecha Industries (Field-Tested)', 'M4A1-S | Hyper Beast (Minimal Wear)', 'StatTrak™ M4A1-S | Atomic Alloy (Minimal Wear)', 'StatTrak™ M4A1-S | Guardian (Field-Tested)', 'StatTrak™ M4A1-S | Bright Water (Minimal Wear)', \"M4A1-S | Chantico's Fire (Well-Worn)\", 'M4A4 | Radiation Hazard (Minimal Wear)', 'StatTrak™ AK-47 | Blue Laminate (Factory New)', 'M4A4 | Daybreak (Factory New)', 'StatTrak™ AWP | Phobos (Factory New)', 'AK-47 | Aquamarine Revenge (Field-Tested)', 'AWP | Redline (Minimal Wear)', 'AWP | Electric Hive (Factory New)', 'M4A4 | Desolate Space (Field-Tested)', 'AK-47 | Point Disarray (Minimal Wear)', 'AK-47 | Jaguar (Minimal Wear)', 'StatTrak™ AK-47 | Cartel (Minimal Wear)', 'Glock-18 | Wasteland Rebel (Minimal Wear)', 'StatTrak™ Desert Eagle | Conspiracy (Factory New)', 'StatTrak™ M4A1-S | Dark Water (Field-Tested)', 'M4A4 | Asiimov (Battle-Scarred)', 'M4A1-S | Cyrex (Factory New)', 'StatTrak™ M4A4 | Zirka (Field-Tested)', 'M4A1-S | Golden Coil (Field-Tested)', 'StatTrak™ M4A1-S | Bright Water (Field-Tested)', 'AK-47 | Aquamarine Revenge (Well-Worn)', 'Desert Eagle | Golden Koi (Factory New)', \"M4A1-S | Chantico's Fire (Battle-Scarred)\", 'UMP-45 | Primal Saber (Factory New)', 'AWP | Electric Hive (Minimal Wear)', 'Souvenir AK-47 | Safari Mesh (Minimal Wear)', 'StatTrak™ M4A1-S | Blood Tiger (Factory New)', 'M4A1-S | Golden Coil (Well-Worn)', 'USP-S | Orion (Factory New)', 'AK-47 | Aquamarine Revenge (Well-Worn)', 'AK-47 | Vulcan (Battle-Scarred)', 'StatTrak™ AK-47 | Elite Build (Factory New)', 'AWP | Pink DDPAT (Field-Tested)', 'AWP | Hyper Beast (Battle-Scarred)', 'AK-47 | Red Laminate (Minimal Wear)', 'StatTrak™ AK-47 | Blue Laminate (Minimal Wear)']"
   ]
  },
  {
   "cell_type": "code",
   "execution_count": 9,
   "metadata": {
    "collapsed": false,
    "scrolled": true
   },
   "outputs": [
    {
     "name": "stdout",
     "output_type": "stream",
     "text": [
      "Expected time to run through this list: 565 seconds\n",
      "||||||||||||||||||||||||||\n",
      " This item AWP | Boom (Field-Tested) has no current price listed.\n",
      "||||||||||||||||||||||||||||||\n",
      "Souvenir AK-47 | Safari Mesh (Minimal Wear) \n",
      " Current: $11.43 Median: $50.02 Volume: 7\n",
      "Souvenir AK-47 | Safari Mesh (Minimal Wear) \n",
      " Current: $11.43 Median: $50.02 Volume: 7\n",
      "From long_list_items\n",
      "|||||||||||||||||\n",
      "Five-SeveN | Candy Apple (Factory New) \n",
      " Current: $8.34 Median: $6.83 Volume: 1\n",
      "|From high_hf_items\n",
      "|||||||||||||||||||||||\n",
      " This item M4A1-S | Cyrex (Factory New) has no current price listed.\n",
      "|||Well, that is a strange bug. Here's the info about this.\n",
      "['{\"success\":true,\"lowest_price\":\"$15.89\"}']\n",
      "AUG | Bengal Tiger (Factory New)\n",
      "|||||||||\n",
      " Analysis finished!\n"
     ]
    }
   ],
   "source": [
    "wait = 5\n",
    "analyze = long_list_items + high_hf_items + items\n",
    "\n",
    "print(\"Expected time to run through this list:\",wait*len(analyze),\"seconds\")\n",
    "\n",
    "for i in analyze:\n",
    "    url = \"http://steamcommunity.com/market/priceoverview/?appid=730&currency=1&market_hash_name=\" + i\n",
    "    page = requests.get(url)\n",
    "    tree = html.fromstring(page.content)\n",
    "    text = tree.xpath('text()')\n",
    "    \n",
    "    editable = list(text[0])\n",
    "    \n",
    "    #Prevents errors if the JSON request fails:\n",
    "    failed = False\n",
    "    if len(editable) > 10:\n",
    "        try:\n",
    "            if editable[11] == 'f':\n",
    "                print(\"Name of item spelled incorrectly. (\",i,\")\")\n",
    "                failed = True\n",
    "            if editable[17] == 'v':\n",
    "                print(\"\\n\",\"This item\",i,\"has no current price listed.\")\n",
    "                failed = True\n",
    "        except:\n",
    "            print(\"Well, another strange bug. Here's the info:\")\n",
    "            print(text)\n",
    "            print(i)\n",
    "        \n",
    "    if editable[0] == 'n':\n",
    "        print(\"JSON request failed!\")\n",
    "        failed = True\n",
    "        break\n",
    "        \n",
    "        \n",
    "    if failed == False:\n",
    "        try:\n",
    "            #Makes data look nice:\n",
    "            editable.remove(':')\n",
    "            del editable[0:editable.index(':')+2]\n",
    "            current = ''.join((editable[0:editable.index('\\\"')]))\n",
    "            del editable[0:editable.index(':')+2]\n",
    "            volume = ''.join(editable[0])\n",
    "            del editable[0:editable.index(':')+2]\n",
    "            median = ''.join(editable[0:editable.index('\\\"')])\n",
    "\n",
    "            #calculates percentages to find out if it should display the value\n",
    "            if current < median:\n",
    "                state = 'BUY'\n",
    "                percent = (1-float(current[1:len(current)])/float(median[1:len(median)]))*100\n",
    "            elif current > median:\n",
    "                state = 'SELL'\n",
    "                percent = ((float(current[1:len(current)])/float(median[1:len(median)]))-1)*100\n",
    "            else:\n",
    "                state = 'NONE'\n",
    "                percent = 0.0\n",
    "\n",
    "            #If the percentage difference is over a certain value, the program will make buy/sell suggestions\n",
    "            #In this case, the value is set to the break-even point for the CS:GO Community Market.\n",
    "            if percent >= 15.0:\n",
    "                print(\"\")\n",
    "                print(i,'\\n','Current:',current,'Median:',median,'Volume:',volume)\n",
    "                if state == 'BUY':\n",
    "                    print(i,'\\n','Current:',current,'Median:',median,'Volume:',volume)\n",
    "                elif state == 'SELL' and i in items:\n",
    "                    print('This item is a SELL, with a ',round(percent,3),'percent difference from normal')\n",
    "                else:\n",
    "                    print('|',end = '')\n",
    "                    \n",
    "                if i in items:\n",
    "                    print('From items')\n",
    "                if i in high_hf_items:\n",
    "                    print('From high_hf_items')\n",
    "                if i in long_list_items:\n",
    "                    print('From long_list_items')\n",
    "\n",
    "            else:\n",
    "                #Progress bar to make it clear the program is running\n",
    "                print('|',end = '')\n",
    "        except ValueError:\n",
    "            print(\"Well, that is a strange bug. Here's the info about this.\")\n",
    "            print(text)\n",
    "            print(i)\n",
    "            \n",
    "\n",
    "\n",
    "    #Maximum 20 items per server-side minute. 60/3 = 20.\n",
    "    #Running 5 second wait times so I don't get temp banned.\n",
    "    time.sleep(wait)\n",
    "    \n",
    "print('\\n',\"Analysis finished!\")"
   ]
  },
  {
   "cell_type": "code",
   "execution_count": 2,
   "metadata": {
    "collapsed": false
   },
   "outputs": [],
   "source": [
    "##############################################################################\n",
    "###                                PART 2                                  ###\n",
    "### This code is built to take data directly from the Steam Marketplace.   ###\n",
    "### This prevents problems with being database-kicked by Steam, and is a   ###\n",
    "### more accurate representation of the real price situation.              ###\n",
    "### See \"CSGO Market Requests v2\" for the full implementation of this code.###\n",
    "##############################################################################"
   ]
  },
  {
   "cell_type": "code",
   "execution_count": 3,
   "metadata": {
    "collapsed": false
   },
   "outputs": [
    {
     "data": {
      "text/plain": [
       "True"
      ]
     },
     "execution_count": 3,
     "metadata": {},
     "output_type": "execute_result"
    }
   ],
   "source": [
    "#Auto-launching buy page experiment\n",
    "import webbrowser\n",
    "itemname = 'StatTrak™ FAMAS | Pulse (Factory New)'\n",
    "weburl = 'http://steamcommunity.com/market/listings/730/' + itemname\n",
    "webbrowser.open(weburl)"
   ]
  },
  {
   "cell_type": "code",
   "execution_count": 4,
   "metadata": {
    "collapsed": false
   },
   "outputs": [],
   "source": [
    "from bs4 import BeautifulSoup"
   ]
  },
  {
   "cell_type": "code",
   "execution_count": 5,
   "metadata": {
    "collapsed": false,
    "scrolled": true
   },
   "outputs": [
    {
     "name": "stdout",
     "output_type": "stream",
     "text": [
      "[<span class=\"market_listing_price market_listing_price_with_fee\">\r\n",
      "\t\t\t\t\t\t$10.35\t\t\t\t\t</span>, <span class=\"market_listing_price market_listing_price_with_fee\">\r\n",
      "\t\t\t\t\t\tR$ 35,65\t\t\t\t\t</span>, <span class=\"market_listing_price market_listing_price_with_fee\">\r\n",
      "\t\t\t\t\t\t$10.60\t\t\t\t\t</span>, <span class=\"market_listing_price market_listing_price_with_fee\">\r\n",
      "\t\t\t\t\t\t$10.64\t\t\t\t\t</span>, <span class=\"market_listing_price market_listing_price_with_fee\">\r\n",
      "\t\t\t\t\t\t10,17€\t\t\t\t\t</span>, <span class=\"market_listing_price market_listing_price_with_fee\">\r\n",
      "\t\t\t\t\t\t$10.78\t\t\t\t\t</span>, <span class=\"market_listing_price market_listing_price_with_fee\">\r\n",
      "\t\t\t\t\t\t$10.78\t\t\t\t\t</span>, <span class=\"market_listing_price market_listing_price_with_fee\">\r\n",
      "\t\t\t\t\t\t690 pуб.\t\t\t\t\t</span>, <span class=\"market_listing_price market_listing_price_with_fee\">\r\n",
      "\t\t\t\t\t\t690 pуб.\t\t\t\t\t</span>, <span class=\"market_listing_price market_listing_price_with_fee\">\r\n",
      "\t\t\t\t\t\t10,24€\t\t\t\t\t</span>]\n"
     ]
    }
   ],
   "source": [
    "url = 'http://steamcommunity.com/market/listings/730/StatTrak%E2%84%A2%20M4A4%20%7C%20Evil%20Daimyo%20%28Factory%20New%29'\n",
    "\n",
    "data = requests.get(url).content\n",
    "\n",
    "soup = BeautifulSoup(data,'lxml')\n",
    "\n",
    "prices = soup.findAll('span', class_='market_listing_price market_listing_price_with_fee')\n",
    "print(prices)"
   ]
  },
  {
   "cell_type": "code",
   "execution_count": 37,
   "metadata": {
    "collapsed": false
   },
   "outputs": [
    {
     "name": "stdout",
     "output_type": "stream",
     "text": [
      "[10.35, 10.55, 10.6, 10.64, 10.74, 10.78, 10.78, 11.05, 11.05, 10.81]\n"
     ]
    }
   ],
   "source": [
    "newprices = []\n",
    "\n",
    "#Now we need currency conversion charts.\n",
    "\n",
    "def rate(currency1):\n",
    "    #url = 'http://www.xe.com/currencycharts/?from=' + currency1 + '&to=USD'\n",
    "    #Using XE to get rates is prohibited by their terms of service. (Makes sense; they sell their data.)\n",
    "    #Instead, we'll use Bloomberg.\n",
    "    \n",
    "    #if (currency1 in currencies) and (len(rates) == len(currencies)):\n",
    "    #    return rates[currencies.index(currency1)-1]\n",
    "    \n",
    "    url = 'https://www.bloomberg.com/quote/' + currency1 + 'USD:CUR'\n",
    "    page = requests.get(url)\n",
    "    tree = html.fromstring(page.content)\n",
    "    text = tree.xpath('//*[@id=\"content\"]/div/div/div[1]/div/div[4]/div[2]/text()') #Location of price data\n",
    "    return float(text[0])\n",
    "\n",
    "#currencies = ['BRL','EUR','RUB']\n",
    "#rates = []\n",
    "#for k in currencies:\n",
    "#    rates.append(rate(k))\n",
    "\n",
    "#def updateCurrencies():\n",
    "#    for k in currencies:\n",
    "#        rates.append(rate(k))\n",
    "#    print(rates)\n",
    "\n",
    "for j in prices[0:3]: #the total length is 10, but it's not necessary to know all of them.\n",
    "    base = list(list(j)[0])\n",
    "    #Now to convert currencies.\n",
    "    \n",
    "    found = False\n",
    "    \n",
    "    if base[8] == '$':\n",
    "        # --- USD ---\n",
    "        del base[:9]\n",
    "        newprices.append(float(''.join(base[:base.index('\\t')])))\n",
    "        found = True\n",
    "    \n",
    "    # --- BRL (Brazilian Real: $R) ---\n",
    "    if found == False and base[9] == '$':\n",
    "        del base[:11]\n",
    "        pos = base.index(',')\n",
    "        realbase = base[:pos] + base[pos+1:pos+3]\n",
    "        realbase.insert(2,'.')\n",
    "        newprices.append(round(float(''.join(realbase))*rate('BRL'),2))\n",
    "        found = True\n",
    "    \n",
    "    # --- EUR (Euro: €) ---\n",
    "    if found == False and base[len(base)-6] == '€':\n",
    "        pos = len(base)-6\n",
    "        eurobase = base[pos-5:pos-3] + base[pos-2:pos]\n",
    "        eurobase.insert(2,'.')\n",
    "        newprices.append(round(float(''.join(eurobase))*rate('EUR'),2))\n",
    "        found = True\n",
    "    \n",
    "    # --- RUB (Russian Ruble: pуб) ---\n",
    "    if found == False and base[len(base)-7] == 'б':\n",
    "        #Rubles seems to be reporting a bit high for some reason... (Figure this out later)\n",
    "        pos = len(base)-5\n",
    "        del base[:7]\n",
    "        newprices.append(round(float(''.join(base[0:base.index(' ')]))*rate('RUB'),2))\n",
    "        found = True\n",
    "\n",
    "print(newprices)"
   ]
  }
 ],
 "metadata": {
  "anaconda-cloud": {},
  "kernelspec": {
   "display_name": "Python 3",
   "language": "python",
   "name": "python3"
  },
  "language_info": {
   "codemirror_mode": {
    "name": "ipython",
    "version": 3
   },
   "file_extension": ".py",
   "mimetype": "text/x-python",
   "name": "python",
   "nbconvert_exporter": "python",
   "pygments_lexer": "ipython3",
   "version": "3.6.0"
  }
 },
 "nbformat": 4,
 "nbformat_minor": 1
}
